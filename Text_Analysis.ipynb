{
  "nbformat": 4,
  "nbformat_minor": 0,
  "metadata": {
    "colab": {
      "provenance": []
    },
    "kernelspec": {
      "name": "python3",
      "display_name": "Python 3"
    },
    "language_info": {
      "name": "python"
    }
  },
  "cells": [
    {
      "cell_type": "markdown",
      "source": [
        "### Importing Libraries and Data Load"
      ],
      "metadata": {
        "id": "itbZtHyi-bZ9"
      }
    },
    {
      "cell_type": "code",
      "execution_count": 1,
      "metadata": {
        "id": "hxyvlWvCTR1n"
      },
      "outputs": [],
      "source": [
        "from bs4 import BeautifulSoup\n",
        "import requests\n",
        "import pandas as pd\n",
        "import os\n",
        "import re\n",
        "import nltk\n",
        "from nltk.tokenize import word_tokenize, sent_tokenize"
      ]
    },
    {
      "cell_type": "code",
      "source": [
        "data = pd.read_excel(\"Input.xlsx\")"
      ],
      "metadata": {
        "id": "xdcVn5u9Tg6K"
      },
      "execution_count": 2,
      "outputs": []
    },
    {
      "cell_type": "code",
      "source": [
        "data.head()"
      ],
      "metadata": {
        "colab": {
          "base_uri": "https://localhost:8080/",
          "height": 206
        },
        "id": "h2QQUvKl-q0G",
        "outputId": "3f46f32e-6a41-424b-d17c-faf6f6352323"
      },
      "execution_count": 3,
      "outputs": [
        {
          "output_type": "execute_result",
          "data": {
            "text/plain": [
              "            URL_ID                                                URL\n",
              "0  blackassign0001  https://insights.blackcoffer.com/rising-it-cit...\n",
              "1  blackassign0002  https://insights.blackcoffer.com/rising-it-cit...\n",
              "2  blackassign0003  https://insights.blackcoffer.com/internet-dema...\n",
              "3  blackassign0004  https://insights.blackcoffer.com/rise-of-cyber...\n",
              "4  blackassign0005  https://insights.blackcoffer.com/ott-platform-..."
            ],
            "text/html": [
              "\n",
              "  <div id=\"df-a41e3ddf-b4fa-40fd-9f80-4af61512e613\" class=\"colab-df-container\">\n",
              "    <div>\n",
              "<style scoped>\n",
              "    .dataframe tbody tr th:only-of-type {\n",
              "        vertical-align: middle;\n",
              "    }\n",
              "\n",
              "    .dataframe tbody tr th {\n",
              "        vertical-align: top;\n",
              "    }\n",
              "\n",
              "    .dataframe thead th {\n",
              "        text-align: right;\n",
              "    }\n",
              "</style>\n",
              "<table border=\"1\" class=\"dataframe\">\n",
              "  <thead>\n",
              "    <tr style=\"text-align: right;\">\n",
              "      <th></th>\n",
              "      <th>URL_ID</th>\n",
              "      <th>URL</th>\n",
              "    </tr>\n",
              "  </thead>\n",
              "  <tbody>\n",
              "    <tr>\n",
              "      <th>0</th>\n",
              "      <td>blackassign0001</td>\n",
              "      <td>https://insights.blackcoffer.com/rising-it-cit...</td>\n",
              "    </tr>\n",
              "    <tr>\n",
              "      <th>1</th>\n",
              "      <td>blackassign0002</td>\n",
              "      <td>https://insights.blackcoffer.com/rising-it-cit...</td>\n",
              "    </tr>\n",
              "    <tr>\n",
              "      <th>2</th>\n",
              "      <td>blackassign0003</td>\n",
              "      <td>https://insights.blackcoffer.com/internet-dema...</td>\n",
              "    </tr>\n",
              "    <tr>\n",
              "      <th>3</th>\n",
              "      <td>blackassign0004</td>\n",
              "      <td>https://insights.blackcoffer.com/rise-of-cyber...</td>\n",
              "    </tr>\n",
              "    <tr>\n",
              "      <th>4</th>\n",
              "      <td>blackassign0005</td>\n",
              "      <td>https://insights.blackcoffer.com/ott-platform-...</td>\n",
              "    </tr>\n",
              "  </tbody>\n",
              "</table>\n",
              "</div>\n",
              "    <div class=\"colab-df-buttons\">\n",
              "\n",
              "  <div class=\"colab-df-container\">\n",
              "    <button class=\"colab-df-convert\" onclick=\"convertToInteractive('df-a41e3ddf-b4fa-40fd-9f80-4af61512e613')\"\n",
              "            title=\"Convert this dataframe to an interactive table.\"\n",
              "            style=\"display:none;\">\n",
              "\n",
              "  <svg xmlns=\"http://www.w3.org/2000/svg\" height=\"24px\" viewBox=\"0 -960 960 960\">\n",
              "    <path d=\"M120-120v-720h720v720H120Zm60-500h600v-160H180v160Zm220 220h160v-160H400v160Zm0 220h160v-160H400v160ZM180-400h160v-160H180v160Zm440 0h160v-160H620v160ZM180-180h160v-160H180v160Zm440 0h160v-160H620v160Z\"/>\n",
              "  </svg>\n",
              "    </button>\n",
              "\n",
              "  <style>\n",
              "    .colab-df-container {\n",
              "      display:flex;\n",
              "      gap: 12px;\n",
              "    }\n",
              "\n",
              "    .colab-df-convert {\n",
              "      background-color: #E8F0FE;\n",
              "      border: none;\n",
              "      border-radius: 50%;\n",
              "      cursor: pointer;\n",
              "      display: none;\n",
              "      fill: #1967D2;\n",
              "      height: 32px;\n",
              "      padding: 0 0 0 0;\n",
              "      width: 32px;\n",
              "    }\n",
              "\n",
              "    .colab-df-convert:hover {\n",
              "      background-color: #E2EBFA;\n",
              "      box-shadow: 0px 1px 2px rgba(60, 64, 67, 0.3), 0px 1px 3px 1px rgba(60, 64, 67, 0.15);\n",
              "      fill: #174EA6;\n",
              "    }\n",
              "\n",
              "    .colab-df-buttons div {\n",
              "      margin-bottom: 4px;\n",
              "    }\n",
              "\n",
              "    [theme=dark] .colab-df-convert {\n",
              "      background-color: #3B4455;\n",
              "      fill: #D2E3FC;\n",
              "    }\n",
              "\n",
              "    [theme=dark] .colab-df-convert:hover {\n",
              "      background-color: #434B5C;\n",
              "      box-shadow: 0px 1px 3px 1px rgba(0, 0, 0, 0.15);\n",
              "      filter: drop-shadow(0px 1px 2px rgba(0, 0, 0, 0.3));\n",
              "      fill: #FFFFFF;\n",
              "    }\n",
              "  </style>\n",
              "\n",
              "    <script>\n",
              "      const buttonEl =\n",
              "        document.querySelector('#df-a41e3ddf-b4fa-40fd-9f80-4af61512e613 button.colab-df-convert');\n",
              "      buttonEl.style.display =\n",
              "        google.colab.kernel.accessAllowed ? 'block' : 'none';\n",
              "\n",
              "      async function convertToInteractive(key) {\n",
              "        const element = document.querySelector('#df-a41e3ddf-b4fa-40fd-9f80-4af61512e613');\n",
              "        const dataTable =\n",
              "          await google.colab.kernel.invokeFunction('convertToInteractive',\n",
              "                                                    [key], {});\n",
              "        if (!dataTable) return;\n",
              "\n",
              "        const docLinkHtml = 'Like what you see? Visit the ' +\n",
              "          '<a target=\"_blank\" href=https://colab.research.google.com/notebooks/data_table.ipynb>data table notebook</a>'\n",
              "          + ' to learn more about interactive tables.';\n",
              "        element.innerHTML = '';\n",
              "        dataTable['output_type'] = 'display_data';\n",
              "        await google.colab.output.renderOutput(dataTable, element);\n",
              "        const docLink = document.createElement('div');\n",
              "        docLink.innerHTML = docLinkHtml;\n",
              "        element.appendChild(docLink);\n",
              "      }\n",
              "    </script>\n",
              "  </div>\n",
              "\n",
              "\n",
              "<div id=\"df-9e9ed4b4-3911-49d3-8107-3a8591bb469d\">\n",
              "  <button class=\"colab-df-quickchart\" onclick=\"quickchart('df-9e9ed4b4-3911-49d3-8107-3a8591bb469d')\"\n",
              "            title=\"Suggest charts\"\n",
              "            style=\"display:none;\">\n",
              "\n",
              "<svg xmlns=\"http://www.w3.org/2000/svg\" height=\"24px\"viewBox=\"0 0 24 24\"\n",
              "     width=\"24px\">\n",
              "    <g>\n",
              "        <path d=\"M19 3H5c-1.1 0-2 .9-2 2v14c0 1.1.9 2 2 2h14c1.1 0 2-.9 2-2V5c0-1.1-.9-2-2-2zM9 17H7v-7h2v7zm4 0h-2V7h2v10zm4 0h-2v-4h2v4z\"/>\n",
              "    </g>\n",
              "</svg>\n",
              "  </button>\n",
              "\n",
              "<style>\n",
              "  .colab-df-quickchart {\n",
              "      --bg-color: #E8F0FE;\n",
              "      --fill-color: #1967D2;\n",
              "      --hover-bg-color: #E2EBFA;\n",
              "      --hover-fill-color: #174EA6;\n",
              "      --disabled-fill-color: #AAA;\n",
              "      --disabled-bg-color: #DDD;\n",
              "  }\n",
              "\n",
              "  [theme=dark] .colab-df-quickchart {\n",
              "      --bg-color: #3B4455;\n",
              "      --fill-color: #D2E3FC;\n",
              "      --hover-bg-color: #434B5C;\n",
              "      --hover-fill-color: #FFFFFF;\n",
              "      --disabled-bg-color: #3B4455;\n",
              "      --disabled-fill-color: #666;\n",
              "  }\n",
              "\n",
              "  .colab-df-quickchart {\n",
              "    background-color: var(--bg-color);\n",
              "    border: none;\n",
              "    border-radius: 50%;\n",
              "    cursor: pointer;\n",
              "    display: none;\n",
              "    fill: var(--fill-color);\n",
              "    height: 32px;\n",
              "    padding: 0;\n",
              "    width: 32px;\n",
              "  }\n",
              "\n",
              "  .colab-df-quickchart:hover {\n",
              "    background-color: var(--hover-bg-color);\n",
              "    box-shadow: 0 1px 2px rgba(60, 64, 67, 0.3), 0 1px 3px 1px rgba(60, 64, 67, 0.15);\n",
              "    fill: var(--button-hover-fill-color);\n",
              "  }\n",
              "\n",
              "  .colab-df-quickchart-complete:disabled,\n",
              "  .colab-df-quickchart-complete:disabled:hover {\n",
              "    background-color: var(--disabled-bg-color);\n",
              "    fill: var(--disabled-fill-color);\n",
              "    box-shadow: none;\n",
              "  }\n",
              "\n",
              "  .colab-df-spinner {\n",
              "    border: 2px solid var(--fill-color);\n",
              "    border-color: transparent;\n",
              "    border-bottom-color: var(--fill-color);\n",
              "    animation:\n",
              "      spin 1s steps(1) infinite;\n",
              "  }\n",
              "\n",
              "  @keyframes spin {\n",
              "    0% {\n",
              "      border-color: transparent;\n",
              "      border-bottom-color: var(--fill-color);\n",
              "      border-left-color: var(--fill-color);\n",
              "    }\n",
              "    20% {\n",
              "      border-color: transparent;\n",
              "      border-left-color: var(--fill-color);\n",
              "      border-top-color: var(--fill-color);\n",
              "    }\n",
              "    30% {\n",
              "      border-color: transparent;\n",
              "      border-left-color: var(--fill-color);\n",
              "      border-top-color: var(--fill-color);\n",
              "      border-right-color: var(--fill-color);\n",
              "    }\n",
              "    40% {\n",
              "      border-color: transparent;\n",
              "      border-right-color: var(--fill-color);\n",
              "      border-top-color: var(--fill-color);\n",
              "    }\n",
              "    60% {\n",
              "      border-color: transparent;\n",
              "      border-right-color: var(--fill-color);\n",
              "    }\n",
              "    80% {\n",
              "      border-color: transparent;\n",
              "      border-right-color: var(--fill-color);\n",
              "      border-bottom-color: var(--fill-color);\n",
              "    }\n",
              "    90% {\n",
              "      border-color: transparent;\n",
              "      border-bottom-color: var(--fill-color);\n",
              "    }\n",
              "  }\n",
              "</style>\n",
              "\n",
              "  <script>\n",
              "    async function quickchart(key) {\n",
              "      const quickchartButtonEl =\n",
              "        document.querySelector('#' + key + ' button');\n",
              "      quickchartButtonEl.disabled = true;  // To prevent multiple clicks.\n",
              "      quickchartButtonEl.classList.add('colab-df-spinner');\n",
              "      try {\n",
              "        const charts = await google.colab.kernel.invokeFunction(\n",
              "            'suggestCharts', [key], {});\n",
              "      } catch (error) {\n",
              "        console.error('Error during call to suggestCharts:', error);\n",
              "      }\n",
              "      quickchartButtonEl.classList.remove('colab-df-spinner');\n",
              "      quickchartButtonEl.classList.add('colab-df-quickchart-complete');\n",
              "    }\n",
              "    (() => {\n",
              "      let quickchartButtonEl =\n",
              "        document.querySelector('#df-9e9ed4b4-3911-49d3-8107-3a8591bb469d button');\n",
              "      quickchartButtonEl.style.display =\n",
              "        google.colab.kernel.accessAllowed ? 'block' : 'none';\n",
              "    })();\n",
              "  </script>\n",
              "</div>\n",
              "\n",
              "    </div>\n",
              "  </div>\n"
            ]
          },
          "metadata": {},
          "execution_count": 3
        }
      ]
    },
    {
      "cell_type": "markdown",
      "source": [
        "### Text Extraction"
      ],
      "metadata": {
        "id": "8ZpDngiO-tQW"
      }
    },
    {
      "cell_type": "code",
      "source": [
        "output_folder = \"Extracted_Text\"\n",
        "\n",
        "# Creating a Extracted_Text Folder\n",
        "if not os.path.exists(output_folder):\n",
        "    os.makedirs(output_folder)"
      ],
      "metadata": {
        "id": "BtBT6ZHjTi3O"
      },
      "execution_count": 4,
      "outputs": []
    },
    {
      "cell_type": "code",
      "source": [
        "# Function to extract article text from URL\n",
        "def extract_article_text(url):\n",
        "    try:\n",
        "        response = requests.get(url)\n",
        "        soup = BeautifulSoup(response.text, 'html.parser')\n",
        "\n",
        "        # Extracting title and article text\n",
        "        title = soup.title.text if soup.title else ''\n",
        "        title = title.replace('-', '')\n",
        "        paragraphs = soup.find_all('p')\n",
        "        article_text = ' '.join([p.get_text() for p in paragraphs])\n",
        "\n",
        "        # Removing extra spaces and special characters\n",
        "        article_text = re.sub(r'\\s+', ' ', article_text).strip()\n",
        "\n",
        "        return title, article_text\n",
        "    except Exception as e:\n",
        "        print(f\"Error extracting text from {url}: {str(e)}\")\n",
        "        return None, None"
      ],
      "metadata": {
        "id": "hlzn-029Tlvj"
      },
      "execution_count": 5,
      "outputs": []
    },
    {
      "cell_type": "code",
      "source": [
        "# Main loop for data extraction\n",
        "for index, row in data.iterrows():\n",
        "    url_id = row['URL_ID']\n",
        "    url = row['URL']\n",
        "\n",
        "    # Extracting article text and title for all the websites\n",
        "    title, article_text = extract_article_text(url)\n",
        "    if article_text is not None:\n",
        "        # Saving extracted content to a text file\n",
        "        file_name = os.path.join(output_folder, f\"{url_id}.txt\")\n",
        "        with open(file_name, 'w', encoding='utf-8') as file:\n",
        "            file.write(f\"{title}\\n\")\n",
        "            file.write(f\"{article_text}\")\n",
        "\n",
        "print(\"Data extraction completed. Text files are saved in the 'Extracted_Text' folder.\")"
      ],
      "metadata": {
        "colab": {
          "base_uri": "https://localhost:8080/"
        },
        "id": "-1PVVonPXXDX",
        "outputId": "f81f2134-6ec1-43df-a6ed-5d05c6a66879"
      },
      "execution_count": 6,
      "outputs": [
        {
          "output_type": "stream",
          "name": "stdout",
          "text": [
            "Data extraction completed. Text files are saved in the 'Extracted_Text' folder.\n"
          ]
        }
      ]
    },
    {
      "cell_type": "code",
      "source": [
        "title"
      ],
      "metadata": {
        "colab": {
          "base_uri": "https://localhost:8080/",
          "height": 36
        },
        "id": "VpOL1gBjXd-J",
        "outputId": "c84f86c5-90d5-40d9-8646-baafb21322cd"
      },
      "execution_count": 7,
      "outputs": [
        {
          "output_type": "execute_result",
          "data": {
            "text/plain": [
              "'How will COVID19 affect the world of work?  Blackcoffer Insights'"
            ],
            "application/vnd.google.colaboratory.intrinsic+json": {
              "type": "string"
            }
          },
          "metadata": {},
          "execution_count": 7
        }
      ]
    },
    {
      "cell_type": "code",
      "source": [
        "article_text"
      ],
      "metadata": {
        "colab": {
          "base_uri": "https://localhost:8080/",
          "height": 140
        },
        "id": "X05bx5BlXz8P",
        "outputId": "021244d6-7b04-47a7-935d-542b24b1134b"
      },
      "execution_count": 8,
      "outputs": [
        {
          "output_type": "execute_result",
          "data": {
            "text/plain": [
              "'Automate the Data Management Process Realtime Kibana Dashboard for a financial tech firm Data Management, ETL, and Data Automation Data Management – EGEAS How To Secure (SSL) Nginx with Let’s Encrypt on Ubuntu (Cloud VM, GCP, AWS, Azure, Linode) and Add Domain Deploy and view React app(Nextjs) on cloud VM such as GCP, AWS, Azure, Linode Deploy Nodejs app on a cloud VM such as GCP, AWS, Azure, Linode Grafana Dashboard – Oscar Awards Rising IT cities and its impact on the economy, environment, infrastructure, and city life by the year 2040. Rising IT Cities and Their Impact on the Economy, Environment, Infrastructure, and City Life in Future Internet Demand’s Evolution, Communication Impact, and 2035’s Alternative Pathways Rise of Cybercrime and its Effect in upcoming Future AI/ML and Predictive Modeling Solution for Contact Centre Problems How to Setup Custom Domain for Google App Engine Application? Code Review Checklist As business close to help prevent transmission of COVID-19, financial concerns and job losses are one of the first human impacts of the virus; COVID-19 is in decline in China. There are now more new cases every day in Europe than there were in China at the epidemic’s peak and Italy has surpassed it as the country with the most deaths from the virus It took 67 days to reach the first 100,000 confirmed cases worldwide, 11 days for this to increase to 200,000and just four to reach 300,000 confirmed cases – a figure now exceeded. In recent weeks, we have seen the significant economic impact of the coronavirus on financial markets and vulnerable industries such as manufacturing, tourism, hospitality and travel. Travel and tourism account for 10% of the global GDP and 50 million jobs are at risk worldwide. Global tourism, travel and hospitality companies closing down affects SMEs globally. This, in turn, affects many people, typically the least well-paid and those self-employed or working in informal environments in the gig economy or in part-time work with zero-hours contracts. Some governments have announced economic measures to safeguard jobs, guarantee wages and support the self-employed, but there is a lack of clarity in many countries about how these measures will be implemented and how people will manage a loss of income in the short-term. Behind these statistics lie the human costs of the pandemic, from the deaths of friends and family to the physical effects of infection and the mental trauma and fear faced by almost everyone. Not knowing how this pandemic will play out affects our economic, physical and mental well-being against a backdrop of a world that, for many, is increasingly anxious, unhappy and lonely. Fear of the unknown can often lead to feelings of panic, for example when people feel they are being denied life-saving protection or treatment or that they may run out of necessities, which can lead to panic buying.Psychological stress is often related to a sense of a lack of control in the face of uncertainty. In all cases, lack of information or the wrong information, either provided inadvertently or maliciously, can amplify the effects. There is a huge amount of misleading information circulating online about COVID-19, from fake medical information to speculation about government responses. People are susceptible to social media posts from an apparently trustworthy source, often referred to as an “Uncle with a Masters”-post, possibly amplified and spread by “copypasta” posts, which share information by copying and pasting and make each new post look like an original source, as opposed to posts that are “liked” or “shared” or “retweeted”. Sadly, criminals and hackers are also exploiting this situation and there has been a significant rise in Coronavirus-themed malicious websites, with more than 16,000 new coronavirus-related domains registered since January 2020. Hackers are selling malware and hacking tools through COVID-19 discount codes on the darknet,many of which are aimed at accessing corporate data from home-workers’ laptops, which may not be as secure as outside an office environment. Social distancing and lockdowns have also prompted altruistic behaviors, in part because of the sense that “we’re all in this together”. Many people report being bored or concerned about putting on weight; others have discovered a slower pace of life and by not going out and socializing have found more time for family, others, and even their pets. The downside of self-isolation or social lockdown are symptoms of traumatic stress, confusion and anger, all of which are exacerbated by fear of infection, having limited access to supplies of necessities, inadequate information or the experience of economic loss or stigma. This stress and anxiety can lead to increased alcohol consumption, as well as an increase in domestic and family violence.In Jingzhou, a town near Wuhan in Hubei province, reports of domestic violence during the lockdown in February 2020 were more than triple the number reported in February 2019. Health measures must be the first priority for governments, business and society. It is important for businesses to show solidarity and work together to protect staff, local communities and customers, as well as keeping supply chains, manufacturing and logistics working.According to research, “my employer” is more trusted than the government or media. Daily updates on a company website with input from scientists and experts are recommended to counter politicized messages in the media and from governments. This is particularly true for large companies that have the capacity to do this. Messages about what businesses are doing for their employees and in their communities is also important. Some companies are helping schoolchildren from vulnerable families who can no longer get a school meal; others are providing public health messages about effective handwashing. Even CEOs can show they are working from home and self-isolating, while still being effective in their leadership. Following WHO advice, there is a need for the business community to move from general support to specific actions and focus on countries’ access to critical supplies, including a “Community Package of Critical Items” (a list of 46 items that all countries need). Of these items, 20 are either not available locally or available stocks are too limited. These missing items fall into four categories: The call for action is for more money, to work with manufacturers to create capacity and to organize purchasing so there is guaranteed access, especially for poorer countries with less resilient public health systems. The concept is to create a global security stockpile of supplies and equipment, an effort that needs: We provide intelligence, accelerate innovation and implement technology with extraordinary breadth and depth global insights into the big data,data-driven dashboards, applications development, and information management for organizations through combining unique, specialist services and high-lvel human expertise. Contact us: hello@blackcoffer.com © All Right Reserved, Blackcoffer(OPC) Pvt. Ltd'"
            ],
            "application/vnd.google.colaboratory.intrinsic+json": {
              "type": "string"
            }
          },
          "metadata": {},
          "execution_count": 8
        }
      ]
    },
    {
      "cell_type": "markdown",
      "source": [
        "### Text Analysis"
      ],
      "metadata": {
        "id": "WuYTpfFV-0lC"
      }
    },
    {
      "cell_type": "code",
      "source": [
        "# Downloading nltk resources\n",
        "try:\n",
        "    nltk.data.find('tokenizers/punkt')\n",
        "except LookupError:\n",
        "    nltk.download('punkt')\n",
        "\n",
        "# Postive and negative word files\n",
        "positive_words_file = \"positive_words.txt\"\n",
        "negative_words_file = \"negative_words.txt\"\n",
        "\n",
        "# stop words files\n",
        "stop_words_files = [\n",
        "    \"StopWords_Auditor.txt\",\n",
        "    \"StopWords_Currencies.txt\",\n",
        "    \"StopWords_DatesandNumbers.txt\",\n",
        "    \"StopWords_Generic.txt\",\n",
        "    \"StopWords_GenericLong.txt\",\n",
        "    \"StopWords_Geographic.txt\",\n",
        "    \"StopWords_Names.txt\"\n",
        "]"
      ],
      "metadata": {
        "id": "6EXtyFaDYSTV"
      },
      "execution_count": 9,
      "outputs": []
    },
    {
      "cell_type": "code",
      "source": [
        "# Reading positive and negative words\n",
        "\n",
        "positive_words = set()\n",
        "negative_words = set()\n",
        "\n",
        "with open(positive_words_file, 'r') as file:\n",
        "    positive_words.update(file.read().splitlines())\n",
        "\n",
        "with open(negative_words_file, 'r', encoding='latin-1') as file:\n",
        "    negative_words.update(file.read().splitlines())"
      ],
      "metadata": {
        "id": "IiCCoIYS1P9Y"
      },
      "execution_count": 10,
      "outputs": []
    },
    {
      "cell_type": "code",
      "source": [
        "# Reading stop words\n",
        "additional_stop_words = set()\n",
        "for stop_words_file in stop_words_files:\n",
        "    stop_words_file_path = stop_words_file\n",
        "    with open(stop_words_file_path, 'r', encoding='latin-1') as file:\n",
        "        additional_stop_words.update(file.read().splitlines())"
      ],
      "metadata": {
        "id": "NhybF0g91QAG"
      },
      "execution_count": 11,
      "outputs": []
    },
    {
      "cell_type": "code",
      "source": [
        "# Creating output dataframe\n",
        "output_columns = [\"URL_ID\", \"URL\", \"Positive Score\", \"Negative Score\", \"Polarity Score\",\n",
        "                  \"Subjectivity Score\", \"Average Sentence Length\", \"Percentage of Complex Words\",\n",
        "                  \"Fog Index\", \"Average Number of Words Per Sentence\", \"Complex Word Count\",\n",
        "                  \"Word Count\", \"Syllable Per Word\", \"Personal Pronouns\", \"Average Word Length\"]\n",
        "\n",
        "output_data = pd.DataFrame(columns=output_columns)\n",
        "output_data.head()"
      ],
      "metadata": {
        "colab": {
          "base_uri": "https://localhost:8080/",
          "height": 119
        },
        "id": "ZBu6QiQp1QCt",
        "outputId": "699b4e13-a00b-41e6-9be4-ae91eba0b06e"
      },
      "execution_count": 12,
      "outputs": [
        {
          "output_type": "execute_result",
          "data": {
            "text/plain": [
              "Empty DataFrame\n",
              "Columns: [URL_ID, URL, Positive Score, Negative Score, Polarity Score, Subjectivity Score, Average Sentence Length, Percentage of Complex Words, Fog Index, Average Number of Words Per Sentence, Complex Word Count, Word Count, Syllable Per Word, Personal Pronouns, Average Word Length]\n",
              "Index: []"
            ],
            "text/html": [
              "\n",
              "  <div id=\"df-482b9661-f3c8-4056-ae9b-2b6f87195703\" class=\"colab-df-container\">\n",
              "    <div>\n",
              "<style scoped>\n",
              "    .dataframe tbody tr th:only-of-type {\n",
              "        vertical-align: middle;\n",
              "    }\n",
              "\n",
              "    .dataframe tbody tr th {\n",
              "        vertical-align: top;\n",
              "    }\n",
              "\n",
              "    .dataframe thead th {\n",
              "        text-align: right;\n",
              "    }\n",
              "</style>\n",
              "<table border=\"1\" class=\"dataframe\">\n",
              "  <thead>\n",
              "    <tr style=\"text-align: right;\">\n",
              "      <th></th>\n",
              "      <th>URL_ID</th>\n",
              "      <th>URL</th>\n",
              "      <th>Positive Score</th>\n",
              "      <th>Negative Score</th>\n",
              "      <th>Polarity Score</th>\n",
              "      <th>Subjectivity Score</th>\n",
              "      <th>Average Sentence Length</th>\n",
              "      <th>Percentage of Complex Words</th>\n",
              "      <th>Fog Index</th>\n",
              "      <th>Average Number of Words Per Sentence</th>\n",
              "      <th>Complex Word Count</th>\n",
              "      <th>Word Count</th>\n",
              "      <th>Syllable Per Word</th>\n",
              "      <th>Personal Pronouns</th>\n",
              "      <th>Average Word Length</th>\n",
              "    </tr>\n",
              "  </thead>\n",
              "  <tbody>\n",
              "  </tbody>\n",
              "</table>\n",
              "</div>\n",
              "    <div class=\"colab-df-buttons\">\n",
              "\n",
              "  <div class=\"colab-df-container\">\n",
              "    <button class=\"colab-df-convert\" onclick=\"convertToInteractive('df-482b9661-f3c8-4056-ae9b-2b6f87195703')\"\n",
              "            title=\"Convert this dataframe to an interactive table.\"\n",
              "            style=\"display:none;\">\n",
              "\n",
              "  <svg xmlns=\"http://www.w3.org/2000/svg\" height=\"24px\" viewBox=\"0 -960 960 960\">\n",
              "    <path d=\"M120-120v-720h720v720H120Zm60-500h600v-160H180v160Zm220 220h160v-160H400v160Zm0 220h160v-160H400v160ZM180-400h160v-160H180v160Zm440 0h160v-160H620v160ZM180-180h160v-160H180v160Zm440 0h160v-160H620v160Z\"/>\n",
              "  </svg>\n",
              "    </button>\n",
              "\n",
              "  <style>\n",
              "    .colab-df-container {\n",
              "      display:flex;\n",
              "      gap: 12px;\n",
              "    }\n",
              "\n",
              "    .colab-df-convert {\n",
              "      background-color: #E8F0FE;\n",
              "      border: none;\n",
              "      border-radius: 50%;\n",
              "      cursor: pointer;\n",
              "      display: none;\n",
              "      fill: #1967D2;\n",
              "      height: 32px;\n",
              "      padding: 0 0 0 0;\n",
              "      width: 32px;\n",
              "    }\n",
              "\n",
              "    .colab-df-convert:hover {\n",
              "      background-color: #E2EBFA;\n",
              "      box-shadow: 0px 1px 2px rgba(60, 64, 67, 0.3), 0px 1px 3px 1px rgba(60, 64, 67, 0.15);\n",
              "      fill: #174EA6;\n",
              "    }\n",
              "\n",
              "    .colab-df-buttons div {\n",
              "      margin-bottom: 4px;\n",
              "    }\n",
              "\n",
              "    [theme=dark] .colab-df-convert {\n",
              "      background-color: #3B4455;\n",
              "      fill: #D2E3FC;\n",
              "    }\n",
              "\n",
              "    [theme=dark] .colab-df-convert:hover {\n",
              "      background-color: #434B5C;\n",
              "      box-shadow: 0px 1px 3px 1px rgba(0, 0, 0, 0.15);\n",
              "      filter: drop-shadow(0px 1px 2px rgba(0, 0, 0, 0.3));\n",
              "      fill: #FFFFFF;\n",
              "    }\n",
              "  </style>\n",
              "\n",
              "    <script>\n",
              "      const buttonEl =\n",
              "        document.querySelector('#df-482b9661-f3c8-4056-ae9b-2b6f87195703 button.colab-df-convert');\n",
              "      buttonEl.style.display =\n",
              "        google.colab.kernel.accessAllowed ? 'block' : 'none';\n",
              "\n",
              "      async function convertToInteractive(key) {\n",
              "        const element = document.querySelector('#df-482b9661-f3c8-4056-ae9b-2b6f87195703');\n",
              "        const dataTable =\n",
              "          await google.colab.kernel.invokeFunction('convertToInteractive',\n",
              "                                                    [key], {});\n",
              "        if (!dataTable) return;\n",
              "\n",
              "        const docLinkHtml = 'Like what you see? Visit the ' +\n",
              "          '<a target=\"_blank\" href=https://colab.research.google.com/notebooks/data_table.ipynb>data table notebook</a>'\n",
              "          + ' to learn more about interactive tables.';\n",
              "        element.innerHTML = '';\n",
              "        dataTable['output_type'] = 'display_data';\n",
              "        await google.colab.output.renderOutput(dataTable, element);\n",
              "        const docLink = document.createElement('div');\n",
              "        docLink.innerHTML = docLinkHtml;\n",
              "        element.appendChild(docLink);\n",
              "      }\n",
              "    </script>\n",
              "  </div>\n",
              "\n",
              "\n",
              "    </div>\n",
              "  </div>\n"
            ]
          },
          "metadata": {},
          "execution_count": 12
        }
      ]
    },
    {
      "cell_type": "code",
      "source": [
        "def syllable_count(word):\n",
        "    # Basic syllable counting\n",
        "    count = 0\n",
        "    vowels = \"aeiou\"\n",
        "    word = word.lower().strip(\".:;?!\")\n",
        "\n",
        "    # Handling exceptions for words ending with \"es\" or \"ed\"\n",
        "    if word.endswith(\"es\") or word.endswith(\"ed\"):\n",
        "        pass\n",
        "    else:\n",
        "        if word[0] in vowels:\n",
        "            count += 1\n",
        "        for index in range(1, len(word)):\n",
        "            if word[index] in vowels and word[index - 1] not in vowels:\n",
        "                count += 1\n",
        "        if word.endswith(\"e\"):\n",
        "            count -= 1\n",
        "        if count == 0:\n",
        "            count += 1\n",
        "\n",
        "    return count"
      ],
      "metadata": {
        "id": "b4uFjs851QFH"
      },
      "execution_count": 13,
      "outputs": []
    },
    {
      "cell_type": "code",
      "source": [
        "# Text Analysis\n",
        "def analyze_text(row):\n",
        "    url_id = row[\"URL_ID\"]\n",
        "    url = row[\"URL\"]\n",
        "\n",
        "    output_folder = 'Extracted_Text'\n",
        "    # Extracted text file path\n",
        "    text_file_path = os.path.join(output_folder, f\"{url_id}.txt\")\n",
        "\n",
        "    # Read the extracted text file\n",
        "    with open(text_file_path, 'r', encoding='utf-8') as text_file:\n",
        "        text = text_file.read()\n",
        "\n",
        "    # Tokenization and Cleaning\n",
        "    words = [word.lower() for word in word_tokenize(text) if word.isalpha() and word.lower() not in additional_stop_words]\n",
        "    sentences = sent_tokenize(text)\n",
        "\n",
        "    # Sentiment Analysis\n",
        "    positive_score = sum(1 for word in words if word in positive_words)\n",
        "    negative_score = sum(1 for word in words if word in negative_words)\n",
        "    polarity_score = (positive_score - negative_score) / ((positive_score + negative_score) + 0.000001)\n",
        "    subjectivity_score = (positive_score + negative_score) / (len(words) + 0.000001)\n",
        "\n",
        "    # Readability Analysis\n",
        "    avg_sentence_length = len(words) / len(sentences)\n",
        "    complex_word_count = sum(1 for word in words if syllable_count(word) > 2)\n",
        "    percentage_complex_words = complex_word_count / len(words)\n",
        "    fog_index = 0.4 * (avg_sentence_length + percentage_complex_words)\n",
        "    avg_number_of_words_per_sentence = len(words) / len(sentences)\n",
        "\n",
        "    word_count = len(words)\n",
        "\n",
        "    # Syllable Count Per Word\n",
        "    syllable_per_word = sum(syllable_count(word) for word in words) / len(words)\n",
        "\n",
        "    # Personal Pronouns\n",
        "    personal_pronouns_count = len(re.findall(r'\\b(?:I|we|my|ours|us)\\b', text, flags=re.IGNORECASE))\n",
        "\n",
        "    # Average Word Length\n",
        "    avg_word_length = sum(len(word) for word in words) / len(words)\n",
        "\n",
        "    return pd.Series({\n",
        "        \"URL_ID\": url_id,\n",
        "        \"URL\": url,\n",
        "        \"Positive Score\": positive_score,\n",
        "        \"Negative Score\": negative_score,\n",
        "        \"Polarity Score\": polarity_score,\n",
        "        \"Subjectivity Score\": subjectivity_score,\n",
        "        \"Average Sentence Length\": avg_sentence_length,\n",
        "        \"Percentage of Complex Words\": percentage_complex_words,\n",
        "        \"Fog Index\": fog_index,\n",
        "        \"Average Number of Words Per Sentence\": avg_number_of_words_per_sentence,\n",
        "        \"Complex Word Count\": complex_word_count,\n",
        "        \"Word Count\": word_count,\n",
        "        \"Syllable Per Word\": syllable_per_word,\n",
        "        \"Personal Pronouns\": personal_pronouns_count,\n",
        "        \"Average Word Length\": avg_word_length\n",
        "    })"
      ],
      "metadata": {
        "id": "WybBdsiobWAK"
      },
      "execution_count": 14,
      "outputs": []
    },
    {
      "cell_type": "code",
      "source": [
        "# Applying the text analysis function to each row\n",
        "output_data = data.apply(analyze_text, axis=1)\n",
        "\n",
        "# Storing the results to the output file\n",
        "output_file = \"output.xlsx\"\n",
        "output_data.to_excel(output_file, index=False)\n",
        "\n",
        "print(f\"Text analysis results saved to {output_file}\")"
      ],
      "metadata": {
        "colab": {
          "base_uri": "https://localhost:8080/"
        },
        "id": "HxDqG7KDoloJ",
        "outputId": "4639489a-508b-4bec-dd01-0adb792fb4bd"
      },
      "execution_count": 15,
      "outputs": [
        {
          "output_type": "stream",
          "name": "stdout",
          "text": [
            "Text analysis results saved to output.xlsx\n"
          ]
        }
      ]
    },
    {
      "cell_type": "code",
      "source": [],
      "metadata": {
        "id": "WrgxPyNDsFsJ"
      },
      "execution_count": 15,
      "outputs": []
    }
  ]
}